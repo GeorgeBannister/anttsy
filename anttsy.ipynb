{
  "cells": [
    {
      "cell_type": "markdown",
      "metadata": {},
      "source": [
        "You can wrap strings in ANSI colors using the w (wrapped) namespaces and the `@` operator"
      ]
    },
    {
      "cell_type": "code",
      "execution_count": 1,
      "metadata": {},
      "outputs": [
        {
          "name": "stdout",
          "output_type": "stream",
          "text": [
            "\u001b[1;31mHello world!\u001b[0m\n"
          ]
        }
      ],
      "source": [
        "from anttsy.four_bit import FG\n",
        "\n",
        "print('Hello world!' @ FG.red)"
      ]
    },
    {
      "cell_type": "markdown",
      "metadata": {},
      "source": [
        "You can import string literals using the non-w (wrapped) modules"
      ]
    },
    {
      "cell_type": "code",
      "execution_count": null,
      "metadata": {},
      "outputs": [
        {
          "name": "stdout",
          "output_type": "stream",
          "text": [
            "\u001b[38;5;206mHello world\u001b[0m\n"
          ]
        }
      ],
      "source": [
        "from anttsy.eight_bit import FG, RESET\n",
        "\n",
        "print(FG.c206 + 'Hello world' + RESET)\n",
        "\n",
        "print(f'{FG.c1}Hello world{RESET}')"
      ]
    },
    {
      "cell_type": "markdown",
      "metadata": {},
      "source": [
        "The '@' operator will bind both ways"
      ]
    },
    {
      "cell_type": "code",
      "execution_count": 3,
      "metadata": {},
      "outputs": [
        {
          "name": "stdout",
          "output_type": "stream",
          "text": [
            "\u001b[48;5;224mHello world\u001b[0m\n",
            "\u001b[48;5;107mHello world\u001b[0m\n"
          ]
        }
      ],
      "source": [
        "from anttsy.eight_bit import BG\n",
        "\n",
        "print(BG.c224 @ 'Hello world')\n",
        "\n",
        "print('Hello world' @ BG.c107)"
      ]
    },
    {
      "cell_type": "markdown",
      "metadata": {},
      "source": [
        "You can use the `|` operator to combine wrapped colors i.e. to use a foreground and background without having two instances of a term reset"
      ]
    },
    {
      "cell_type": "code",
      "execution_count": 4,
      "metadata": {},
      "outputs": [
        {
          "name": "stdout",
          "output_type": "stream",
          "text": [
            "\u001b[38;5;229m\u001b[48;5;54mThe quick brown fox jumped over the lazy wolf.\u001b[0m\n"
          ]
        }
      ],
      "source": [
        "from anttsy.eight_bit import BG, FG\n",
        "\n",
        "print('The quick brown fox jumped over the lazy wolf.' @ (FG.c229 | BG.c54))"
      ]
    }
  ],
  "metadata": {
    "kernelspec": {
      "display_name": "Python 3",
      "language": "python",
      "name": "python3"
    },
    "language_info": {
      "codemirror_mode": {
        "name": "ipython",
        "version": 3
      },
      "file_extension": ".py",
      "mimetype": "text/x-python",
      "name": "python",
      "nbconvert_exporter": "python",
      "pygments_lexer": "ipython3",
      "version": "3.13.1"
    }
  },
  "nbformat": 4,
  "nbformat_minor": 2
}
